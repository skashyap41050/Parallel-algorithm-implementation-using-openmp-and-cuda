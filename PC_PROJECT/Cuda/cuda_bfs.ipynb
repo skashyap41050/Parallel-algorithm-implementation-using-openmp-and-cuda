{
  "nbformat": 4,
  "nbformat_minor": 0,
  "metadata": {
    "colab": {
      "provenance": []
    },
    "kernelspec": {
      "name": "python3",
      "display_name": "Python 3"
    },
    "language_info": {
      "name": "python"
    },
    "accelerator": "GPU",
    "gpuClass": "standard"
  },
  "cells": [
    {
      "cell_type": "code",
      "execution_count": 1,
      "metadata": {
        "colab": {
          "base_uri": "https://localhost:8080/"
        },
        "id": "y97tLMd-8MYJ",
        "outputId": "656d1ca1-b900-4344-b77b-f2437bebbc6b"
      },
      "outputs": [
        {
          "output_type": "stream",
          "name": "stdout",
          "text": [
            "Reading package lists... Done\n",
            "Building dependency tree       \n",
            "Reading state information... Done\n",
            "Note, selecting 'libcuda-9.2-1' for regex 'cuda-9.2'\n",
            "The following package was automatically installed and is no longer required:\n",
            "  libnvidia-common-460\n",
            "Use 'apt autoremove' to remove it.\n",
            "0 upgraded, 0 newly installed, 0 to remove and 7 not upgraded.\n"
          ]
        }
      ],
      "source": [
        "!apt-get install cuda-9.2"
      ]
    },
    {
      "cell_type": "code",
      "source": [
        "%%writefile cudabfs.cu\n",
        "#include<iostream>\n",
        "#include<cuda.h>\n",
        "#include <stdio.h>\n",
        "#define INF 1e9;\n",
        "\n",
        "using namespace std;\n",
        "\n",
        "\n",
        "\n",
        "\n",
        "__global__\n",
        "void bfsUtil(int dptrVertices[], int dptrEdges[], int* dn,\n",
        "    int* dm, int dlevelOrder[], int* dptrLevel, int* dptrVisited, int* dptrFlag)\n",
        "{\n",
        "    int id = blockIdx.x * blockDim.x + threadIdx.x;\n",
        "    if (dlevelOrder[id] == *dptrLevel)\n",
        "    {\n",
        "        int startingidx;\n",
        "        int endingidx;\n",
        "        if (id != *dn - 1)\n",
        "        {\n",
        "            startingidx = dptrVertices[id];\n",
        "            endingidx = dptrVertices[id + 1] - 1;\n",
        "        }\n",
        "        else\n",
        "        {\n",
        "            startingidx = dptrVertices[id];\n",
        "            endingidx = *dm - 1;\n",
        "        }\n",
        "        for (int i = startingidx; i <= endingidx; i++)\n",
        "        {\n",
        "            if (!dptrVisited[dptrEdges[i]])\n",
        "            {\n",
        "                dlevelOrder[dptrEdges[i]]=*dptrLevel + 1;\n",
        "                dptrVisited[dptrEdges[i]]=1;\n",
        "                atomicExch(dptrFlag, 1);\n",
        "               \n",
        "                \n",
        "               \n",
        "            }\n",
        "        }\n",
        "    }\n",
        "}\n",
        "\n",
        "void bfs(int vertices[], int edges[], int n, int m, int src)\n",
        "{\n",
        "    int* levelOrder = new int[n];\n",
        "    int level = 0;\n",
        "    int flag = 1;\n",
        "    int* dv;\n",
        "    int* de;\n",
        "    int* dn;\n",
        "    int* dm;\n",
        "    int* visited = new int[n];\n",
        "\n",
        "    for (int i = 0; i < n; i++)\n",
        "    {\n",
        "        visited[i] = 0;\n",
        "        levelOrder[i] = INF;\n",
        "    }\n",
        "    levelOrder[src] = 0;\n",
        "    visited[src] = 1;\n",
        "\n",
        "\n",
        "  \n",
        "    cudaMalloc(&dv, n * sizeof(int));\n",
        "    cudaMalloc(&de, m * sizeof(int));\n",
        "    cudaMalloc(&dn, sizeof(int));\n",
        "    cudaMalloc(&dm, sizeof(int));\n",
        "\n",
        "  \n",
        "    cudaMemcpy(dv, vertices, n * sizeof(int), cudaMemcpyHostToDevice);\n",
        "    cudaMemcpy(de, edges, m * sizeof(int), cudaMemcpyHostToDevice);\n",
        "    cudaMemcpy(dn, &n, sizeof(int), cudaMemcpyHostToDevice);\n",
        "    cudaMemcpy(dm, &m, sizeof(int), cudaMemcpyHostToDevice);\n",
        "    while (flag)\n",
        "    {\n",
        "        flag = 0;\n",
        "        int* dlevelOrder;\n",
        "        int* dl;\n",
        "        int* di;\n",
        "        int* dvisited;\n",
        "        int* dflag;\n",
        "\n",
        "    \n",
        "        cudaMalloc(&dvisited, sizeof(int) * n);\n",
        "        cudaMalloc(&dlevelOrder, sizeof(int) * n);\n",
        "        cudaMalloc(&dl, sizeof(int));\n",
        "        cudaMalloc(&di, sizeof(int));\n",
        "        cudaMalloc(&dflag, sizeof(int));\n",
        "\n",
        "      \n",
        "        cudaMemcpy(dvisited, visited, sizeof(int) * n, cudaMemcpyHostToDevice);\n",
        "        cudaMemcpy(dlevelOrder, levelOrder, n * sizeof(int), cudaMemcpyHostToDevice);\n",
        "        cudaMemcpy(dl, &level, sizeof(int), cudaMemcpyHostToDevice);\n",
        "        cudaMemcpy(dflag, &flag, sizeof(int), cudaMemcpyHostToDevice);\n",
        "\n",
        "\n",
        "        \n",
        "        bfsUtil << <1, n >> > (dv, de, dn, dm, dlevelOrder, dl, dvisited, dflag);\n",
        "\n",
        "      \n",
        "        cudaMemcpy(levelOrder, dlevelOrder, n * sizeof(int), cudaMemcpyDeviceToHost);\n",
        "        cudaMemcpy(&level, dl, sizeof(int), cudaMemcpyDeviceToHost);\n",
        "        cudaMemcpy(visited, dvisited, n * sizeof(int), cudaMemcpyDeviceToHost);\n",
        "        cudaMemcpy(&flag, dflag, sizeof(int), cudaMemcpyDeviceToHost);\n",
        "\n",
        "\n",
        "\n",
        "        cudaFree(dlevelOrder);\n",
        "        cudaFree(dl);\n",
        "        level++;\n",
        "\n",
        "    }\n",
        "\n",
        "\n",
        "    for (int i = 0; i < n; i++)\n",
        "    {\n",
        "    \n",
        "        std::cout << \"node \" << i << \" has level \" << levelOrder[i] << \" \";\n",
        "        std::cout << std::endl;\n",
        "    }\n",
        "\n",
        "    cudaFree(dv);\n",
        "    cudaFree(de);\n",
        "    cudaFree(dn);\n",
        "    cudaFree(dm);\n",
        "}\n",
        "int main(void)\n",
        "{\n",
        "    int edges[] = { 1,2,3,0,0,4,5,0,2,2 };\n",
        "    int vertices[] = { 0,3,4,7,8,9 };\n",
        "    int source = 0;\n",
        "    int n = sizeof(vertices) / sizeof(vertices[0]);\n",
        "    int m = sizeof(edges) / sizeof(edges[0]);\n",
        "\n",
        "    bfs(vertices, edges, n, m, source);\n",
        "    return 0;\n",
        "}\n",
        "\n"
      ],
      "metadata": {
        "colab": {
          "base_uri": "https://localhost:8080/"
        },
        "id": "_FBhGksZ8pwq",
        "outputId": "29a43068-8dd4-4c87-e2ca-7af41a99d175"
      },
      "execution_count": 12,
      "outputs": [
        {
          "output_type": "stream",
          "name": "stdout",
          "text": [
            "Overwriting cudabfs.cu\n"
          ]
        }
      ]
    },
    {
      "cell_type": "code",
      "source": [
        "!nvcc cudabfs.cu\n",
        "!./a.out"
      ],
      "metadata": {
        "colab": {
          "base_uri": "https://localhost:8080/"
        },
        "id": "vq5JTE9b86xL",
        "outputId": "56866e89-26fd-4de2-f73e-e7d03c692f35"
      },
      "execution_count": 13,
      "outputs": [
        {
          "output_type": "stream",
          "name": "stdout",
          "text": [
            "node 0 has level 0 \n",
            "node 1 has level 1 \n",
            "node 2 has level 1 \n",
            "node 3 has level 1 \n",
            "node 4 has level 2 \n",
            "node 5 has level 2 \n"
          ]
        }
      ]
    }
  ]
}