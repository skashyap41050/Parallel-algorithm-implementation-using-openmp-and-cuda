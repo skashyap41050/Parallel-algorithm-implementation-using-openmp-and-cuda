{
  "nbformat": 4,
  "nbformat_minor": 0,
  "metadata": {
    "colab": {
      "provenance": []
    },
    "kernelspec": {
      "name": "python3",
      "display_name": "Python 3"
    },
    "language_info": {
      "name": "python"
    },
    "accelerator": "GPU",
    "gpuClass": "standard"
  },
  "cells": [
    {
      "cell_type": "code",
      "execution_count": null,
      "metadata": {
        "colab": {
          "base_uri": "https://localhost:8080/"
        },
        "id": "-Y6B4hKmIun4",
        "outputId": "0fb56192-869a-4c87-8298-61519ec10bc5"
      },
      "outputs": [
        {
          "output_type": "stream",
          "name": "stdout",
          "text": [
            "Reading package lists... Done\n",
            "Building dependency tree       \n",
            "Reading state information... Done\n",
            "Note, selecting 'libcuda-9.2-1' for regex 'cuda-9.2'\n",
            "The following package was automatically installed and is no longer required:\n",
            "  libnvidia-common-460\n",
            "Use 'apt autoremove' to remove it.\n",
            "0 upgraded, 0 newly installed, 0 to remove and 7 not upgraded.\n"
          ]
        }
      ],
      "source": [
        "!apt-get install cuda-9.2\n"
      ]
    },
    {
      "cell_type": "code",
      "source": [],
      "metadata": {
        "id": "wms_toDv0EJS"
      },
      "execution_count": null,
      "outputs": []
    },
    {
      "cell_type": "markdown",
      "source": [
        "BELLMAN-FORD ALGORITHM\n",
        "SHIVAM CS22M112"
      ],
      "metadata": {
        "id": "tUI5UR3i0Fem"
      }
    },
    {
      "cell_type": "code",
      "source": [
        "%%writefile bellmonford.cu\n",
        "#include <iostream>\n",
        "#include <cuda.h>\n",
        "#include <stdio.h>\n",
        "#include <bits/stdc++.h>\n",
        "using namespace std;\n",
        "\n",
        "__global__ void bellmonford(int dv[], int de[], int dw[], int di[], int dd[])\n",
        "{\n",
        "    int id = threadIdx.x;\n",
        "    if (dd[id] != INT_MAX)\n",
        "    {\n",
        "        for (int i = di[id]; i < di[id + 1]; i++)\n",
        "        {\n",
        "            int v = de[i];\n",
        "            if (dd[v] > dd[id] + dw[i])\n",
        "            {\n",
        "                dd[v] = dd[id] + dw[i];\n",
        "            }\n",
        "        }\n",
        "    }\n",
        "}\n",
        "\n",
        "int main()\n",
        "{\n",
        "    int n, m, s;\n",
        "    cout << \"enter the no of vertex\";\n",
        "    cin >> n;\n",
        "    cout << \"enter the no of edge\";\n",
        "    cin >> m;\n",
        "    cout << \"enter the source\";\n",
        "    cin >> s;\n",
        "\n",
        "    int *v = new int[n];\n",
        "    int *e = new int[m];\n",
        "    int *index = new int[n+1];\n",
        "    int *w = new int[m];\n",
        "    int *d = new int[n];\n",
        "\n",
        "    for (int i = 0; i < n; i++)\n",
        "    {\n",
        "        v[i] = i;\n",
        "    }\n",
        "    cout << \"index\"\n",
        "         << \" \";\n",
        "    for (int i = 0; i < n; i++)\n",
        "    {\n",
        "        int q;\n",
        "        cin >> q;\n",
        "        index[i] = q;\n",
        "    }\n",
        "    index[n]=m;\n",
        "    cout << \"edge\"\n",
        "         << \" \";\n",
        "    for (int i = 0; i < m; i++)\n",
        "    {\n",
        "        int q;\n",
        "        cin >> q;\n",
        "        e[i] = q;\n",
        "    }\n",
        "    cout << \"weight\"\n",
        "         << \" \";\n",
        "    for (int i = 0; i < m; i++)\n",
        "    {\n",
        "        int q;\n",
        "        cin >> q;\n",
        "        w[i] = q;\n",
        "    }\n",
        "    cout << \"distance\"\n",
        "         << \" \";\n",
        "    d[s] = 0;\n",
        "    for (int i = 0; i < n; i++)\n",
        "    {\n",
        "        if (i != s)\n",
        "        {\n",
        "            d[i] = INT_MAX;\n",
        "        }\n",
        "    }\n",
        "\n",
        "    int *dv;\n",
        "    int *de;\n",
        "    int *dindex;\n",
        "    int *dw;\n",
        "    int *dd;\n",
        "    cudaMalloc(&dv, n * sizeof(int));\n",
        "    cudaMalloc(&de, m * sizeof(int));\n",
        "    cudaMalloc(&dw, m * sizeof(int));\n",
        "    cudaMalloc(&dd, n * sizeof(int));\n",
        "    cudaMalloc(&dindex, (n+1) * sizeof(int));\n",
        "\n",
        "    cudaMemcpy(dv, v, n * sizeof(int), cudaMemcpyHostToDevice);\n",
        "    cudaMemcpy(de, e, m * sizeof(int), cudaMemcpyHostToDevice);\n",
        "    cudaMemcpy(dw, w, m * sizeof(int), cudaMemcpyHostToDevice);\n",
        "    cudaMemcpy(dindex, index, (n+1) * sizeof(int), cudaMemcpyHostToDevice);\n",
        "\n",
        "    for (int i = 0; i < (n); i++)\n",
        "    {\n",
        "        cudaMemcpy(dd, d, n * sizeof(int), cudaMemcpyHostToDevice);\n",
        "        bellmonford<<<1, n>>>(dv, de, dw, dindex, dd);\n",
        "        cudaMemcpy(d, dd, n * sizeof(int), cudaMemcpyDeviceToHost);\n",
        "    }\n",
        "    for (int i = 0; i < n; i++)\n",
        "    {\n",
        "        if(d[i]==INT_MAX)\n",
        "          cout<<\"INF\"<<\" \";\n",
        "        else\n",
        "          cout << d[i] << \" \";\n",
        "    }\n",
        "\n",
        "    cudaFree(dv);\n",
        "    cudaFree(de);\n",
        "    cudaFree(dindex);\n",
        "    cudaFree(dd);\n",
        "    cudaFree(dw);\n",
        "    return (0);\n",
        "}"
      ],
      "metadata": {
        "colab": {
          "base_uri": "https://localhost:8080/"
        },
        "id": "Z945A7P_Iwyq",
        "outputId": "d9b1cad5-03fa-4107-cf71-39368fab0113"
      },
      "execution_count": 9,
      "outputs": [
        {
          "output_type": "stream",
          "name": "stdout",
          "text": [
            "Overwriting bellmonford.cu\n"
          ]
        }
      ]
    },
    {
      "cell_type": "code",
      "source": [
        "!nvcc bellmonford.cu\n",
        "!./a.out"
      ],
      "metadata": {
        "colab": {
          "base_uri": "https://localhost:8080/"
        },
        "id": "UmlSy77QMruB",
        "outputId": "5f257025-6b32-40bb-fb24-278d3bcc9155"
      },
      "execution_count": 10,
      "outputs": [
        {
          "output_type": "stream",
          "name": "stdout",
          "text": [
            "enter the no of vertex6\n",
            "enter the no of edge11\n",
            "enter the source5\n",
            "index 0 2 5 7 8 9\n",
            "edge 1 2 2 3 4 3 4 1 3 3 4\n",
            "weight 9 4 10 2 3 2 11 2 2 10 15\n",
            "distance INF 12 22 10 15 0 "
          ]
        }
      ]
    }
  ]
}